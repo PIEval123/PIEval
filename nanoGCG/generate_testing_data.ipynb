{
 "cells": [
  {
   "cell_type": "markdown",
   "metadata": {},
   "source": [
    "# Eval Single GCG"
   ]
  },
  {
   "cell_type": "code",
   "execution_count": 2,
   "metadata": {},
   "outputs": [],
   "source": [
    "import os\n",
    "import json\n",
    "import glob\n",
    "\n",
    "def count_success_true(folder_path):\n",
    "    tot_count = 0\n",
    "    success_count = 0  \n",
    "    avg_step = 0\n",
    "    jsonl_files = glob.glob(os.path.join(folder_path, \"*.jsonl\")) \n",
    "    for file_path in jsonl_files:\n",
    "        try:\n",
    "            with open(file_path, \"r\", encoding=\"utf-8\") as f:\n",
    "                last_line = None\n",
    "                \n",
    "                for line in f:\n",
    "                    last_line = line.strip()\n",
    "                \n",
    "                if last_line: \n",
    "                    last_dict = json.loads(last_line) \n",
    "                    if last_dict.get(\"success\") is True or (last_dict.get(\"step\") == 990 and last_dict.get(\"success\") is False):\n",
    "                        tot_count += 1\n",
    "                    if last_dict.get(\"success\") is True:  \n",
    "                        success_count += 1\n",
    "                        avg_step += last_dict.get(\"step\") + 1\n",
    "        \n",
    "        except (json.JSONDecodeError, FileNotFoundError) as e:\n",
    "            print(f\"{file_path}: {e}\")  \n",
    "\n",
    "    return success_count, tot_count, avg_step/success_count"
   ]
  },
  {
   "cell_type": "code",
   "execution_count": null,
   "metadata": {},
   "outputs": [],
   "source": [
    "folder_path = \"\" # e.g., \"/home/<username>/prompt-injection-eval/nanoGCG/results/gcg_single/OpenPromptInjection/llama3_base_separatorlocmid_adaptive0\" \n",
    "success_count, tot_count, avg_step = count_success_true(folder_path)\n",
    "print(f\"{folder_path}\\n\\nTotal file number: {tot_count}\\nNumber of success=True: {success_count}\\nRate: {success_count/tot_count}\\nAvg steps to get success: {avg_step}\")"
   ]
  },
  {
   "cell_type": "markdown",
   "metadata": {},
   "source": [
    "## Adaptive"
   ]
  },
  {
   "cell_type": "code",
   "execution_count": 13,
   "metadata": {},
   "outputs": [],
   "source": [
    "import os\n",
    "import json\n",
    "import glob\n",
    "\n",
    "def count_success_true(folder_path):\n",
    "    tot_count = 0\n",
    "    success_count = 0  \n",
    "    avg_step = 0\n",
    "    jsonl_files = glob.glob(os.path.join(folder_path, \"*.jsonl\")) \n",
    "    for file_path in jsonl_files:\n",
    "        try:\n",
    "            with open(file_path, \"r\", encoding=\"utf-8\") as f:\n",
    "                last_line = None\n",
    "                \n",
    "                for line in f:\n",
    "                    last_line = line.strip()\n",
    "                \n",
    "                if last_line: \n",
    "                    last_dict = json.loads(last_line) \n",
    "                    if last_dict.get(\"success\") is True or (last_dict.get(\"step\") == 990 and last_dict.get(\"success\") is False):\n",
    "                        tot_count += 1\n",
    "                    if last_dict.get(\"success\") is True:  \n",
    "                        success_count += 1\n",
    "                        avg_step += last_dict.get(\"step\") + 1\n",
    "        \n",
    "        except (json.JSONDecodeError, FileNotFoundError) as e:\n",
    "            print(f\"{file_path}: {e}\")  \n",
    "\n",
    "    return success_count, tot_count, avg_step/success_count"
   ]
  },
  {
   "cell_type": "code",
   "execution_count": null,
   "metadata": {},
   "outputs": [],
   "source": [
    "folder_path = \"\" # e.g., \"/home/<username>/prompt-injection-eval/nanoGCG/results/gcg_single_adaptive/mmlu/llama3_struq_separatorlocmid_adaptive1\"\n",
    "success_count, tot_count, avg_step = count_success_true(folder_path)\n",
    "print(f\"{folder_path}\\n\\nTotal file number: {tot_count}\\nNumber of success=True: {success_count}\\nRate: {success_count/tot_count}\\nAvg steps to get success: {avg_step}\")"
   ]
  },
  {
   "cell_type": "markdown",
   "metadata": {},
   "source": [
    "# Eval Detection GCG"
   ]
  },
  {
   "cell_type": "code",
   "execution_count": 20,
   "metadata": {},
   "outputs": [],
   "source": [
    "import os\n",
    "import json\n",
    "import glob\n",
    "\n",
    "def count_success_true(folder_path):\n",
    "    tot_count = 0\n",
    "    success_count = 0  \n",
    "    avg_step = 0\n",
    "    jsonl_files = glob.glob(os.path.join(folder_path, \"*.jsonl\")) \n",
    "    for file_path in jsonl_files:\n",
    "        try:\n",
    "            with open(file_path, \"r\", encoding=\"utf-8\") as f:\n",
    "                last_line = None\n",
    "                \n",
    "                for line in f:\n",
    "                    last_line = line.strip()\n",
    "                \n",
    "                if last_line: \n",
    "                    last_dict = json.loads(last_line) \n",
    "                    if last_dict.get(\"success\") is True or (last_dict.get(\"step\") == 990 and last_dict.get(\"success\") is False):\n",
    "                        tot_count += 1\n",
    "                    if last_dict.get(\"success\") is True:  \n",
    "                        success_count += 1\n",
    "                        avg_step += last_dict.get(\"step\") + 1\n",
    "        \n",
    "        except (json.JSONDecodeError, FileNotFoundError) as e:\n",
    "            print(f\"{file_path}: {e}\")  \n",
    "\n",
    "    return success_count, tot_count, avg_step/success_count"
   ]
  },
  {
   "cell_type": "code",
   "execution_count": null,
   "metadata": {},
   "outputs": [],
   "source": [
    "folder_path = \"\" # e.g., \"/home/<username>/prompt-injection-eval/attention-tracker/results/gcg_single/OpenPromptInjection/separatorlocdata_nreplace2_alpha100.0_thres0.5\"\n",
    "success_count, tot_count, avg_step = count_success_true(folder_path)\n",
    "print(f\"{folder_path}\\n\\nTotal file number: {tot_count}\\nNumber of success=True: {success_count}\\nRate: {success_count/tot_count}\\nAvg steps to get success: {avg_step}\")"
   ]
  }
 ],
 "metadata": {
  "kernelspec": {
   "display_name": "nanoGCG",
   "language": "python",
   "name": "python3"
  },
  "language_info": {
   "codemirror_mode": {
    "name": "ipython",
    "version": 3
   },
   "file_extension": ".py",
   "mimetype": "text/x-python",
   "name": "python",
   "nbconvert_exporter": "python",
   "pygments_lexer": "ipython3",
   "version": "3.10.0"
  }
 },
 "nbformat": 4,
 "nbformat_minor": 2
}
