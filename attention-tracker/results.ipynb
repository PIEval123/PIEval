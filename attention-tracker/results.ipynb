{
 "cells": [
  {
   "cell_type": "code",
   "execution_count": 1,
   "metadata": {},
   "outputs": [],
   "source": [
    "import json\n",
    "import numpy as np\n",
    "from sklearn.metrics import roc_auc_score, roc_curve\n",
    "from scipy.special import softmax\n",
    "import matplotlib.pyplot as plt\n",
    "\n",
    "with open('attn_tracker_detection_results_benign.json', 'r') as f:\n",
    "    opi_benign = json.load(f)\n",
    "\n",
    "with open('attn_tracker_detection_results_injection.json', 'r') as f:\n",
    "    opi_injection = json.load(f)\n",
    "    \n",
    "with open('attn_tracker_detection_results_mmlu_benign.json', 'r') as f:\n",
    "    mmlu_benign = json.load(f)\n",
    "    \n",
    "with open('attn_tracker_detection_results_mmlu_injection.json', 'r') as f:\n",
    "    mmlu_injection = json.load(f)"
   ]
  },
  {
   "cell_type": "markdown",
   "metadata": {},
   "source": [
    "## OpenPromptInjection"
   ]
  },
  {
   "cell_type": "code",
   "execution_count": 2,
   "metadata": {},
   "outputs": [
    {
     "name": "stdout",
     "output_type": "stream",
     "text": [
      "False positive rate for OPI on benign samples: 0.0\n",
      "False positive rate for OPI on benign samples for task gigaword: 0.0\n",
      "False positive rate for OPI on benign samples for task hsol: 0.0\n",
      "False positive rate for OPI on benign samples for task jfleg: 0.0\n",
      "False positive rate for OPI on benign samples for task mrpc: 0.0\n",
      "False positive rate for OPI on benign samples for task rte: 0.0\n",
      "False positive rate for OPI on benign samples for task sms: 0.0\n",
      "False positive rate for OPI on benign samples for task sst2: 0.0\n"
     ]
    }
   ],
   "source": [
    "# False positive rate\n",
    "false_case_count = 0\n",
    "for sample in opi_benign:\n",
    "    if sample['label'] != 0:\n",
    "        false_case_count += 1\n",
    "print(f'False positive rate for OPI on benign samples: {false_case_count / len(opi_benign)}')\n",
    "\n",
    "# False positive rate for different tasks\n",
    "tasks = ['gigaword', 'hsol', 'jfleg', 'mrpc', 'rte', 'sms', 'sst2']\n",
    "for task in tasks:\n",
    "    false_case_count = 0\n",
    "    for sample in opi_benign:\n",
    "        if sample['label'] != 0 and sample['target'] == task:\n",
    "            false_case_count += 1\n",
    "    print(f'False positive rate for OPI on benign samples for task {task}: {false_case_count / len([sample for sample in opi_benign if sample[\"target\"] == task])}')"
   ]
  },
  {
   "cell_type": "code",
   "execution_count": 3,
   "metadata": {},
   "outputs": [
    {
     "name": "stdout",
     "output_type": "stream",
     "text": [
      "False negative rate for OPI on injection samples: 0.0014285714285714286\n",
      "False negative rate for OPI on injected samples for task gigaword: 0.0\n",
      "False negative rate for OPI on injected samples for task hsol: 0.004285714285714286\n",
      "False negative rate for OPI on injected samples for task jfleg: 0.0\n",
      "False negative rate for OPI on injected samples for task mrpc: 0.0\n",
      "False negative rate for OPI on injected samples for task rte: 0.004285714285714286\n",
      "False negative rate for OPI on injected samples for task sms: 0.0014285714285714286\n",
      "False negative rate for OPI on injected samples for task sst2: 0.0\n"
     ]
    }
   ],
   "source": [
    "# False negative rate\n",
    "false_case_count = 0\n",
    "opi_injection_combine_attack = [sample for sample in opi_injection if sample['attack'] == 'combine']\n",
    "for sample in opi_injection_combine_attack:\n",
    "    if sample['label'] == 0:\n",
    "        false_case_count += 1\n",
    "print(f'False negative rate for OPI on injection samples: {false_case_count / len(opi_injection_combine_attack)}')\n",
    "\n",
    "# False positive rate for different injected tasks\n",
    "tasks = ['gigaword', 'hsol', 'jfleg', 'mrpc', 'rte', 'sms', 'sst2']\n",
    "for task in tasks:\n",
    "    false_case_count = 0\n",
    "    for sample in opi_injection_combine_attack:\n",
    "        if sample['label'] == 0 and sample['injected'] == task:\n",
    "            false_case_count += 1\n",
    "    print(f'False negative rate for OPI on injected samples for task {task}: {false_case_count / len([sample for sample in opi_injection_combine_attack if sample[\"injected\"] == task])}')"
   ]
  },
  {
   "cell_type": "code",
   "execution_count": 4,
   "metadata": {},
   "outputs": [
    {
     "name": "stdout",
     "output_type": "stream",
     "text": [
      "AUC for OPI: 1.0\n"
     ]
    },
    {
     "data": {
      "image/png": "[encoded data removed]",
      "text/plain": [
       "<Figure size 640x480 with 1 Axes>"
      ]
     },
     "metadata": {},
     "output_type": "display_data"
    }
   ],
   "source": [
    "# AUC\n",
    "y_labels = []\n",
    "y_scores = []\n",
    "for sample in opi_benign:\n",
    "    y_labels.append(0)\n",
    "    y_scores.append(1-sample['score'])\n",
    "for sample in opi_injection_combine_attack:\n",
    "    y_labels.append(1)\n",
    "    y_scores.append(1-sample['score'])\n",
    "    \n",
    "print(f'AUC for OPI: {roc_auc_score(y_labels, y_scores)}')\n",
    "\n",
    "fpr, tpr, thresholds = roc_curve(y_labels, y_scores)\n",
    "plt.plot(fpr, tpr, marker='.')\n",
    "plt.xlabel('False Positive Rate')\n",
    "plt.ylabel('True Positive Rate')\n",
    "plt.title('ROC Curve')\n",
    "plt.show()"
   ]
  },
  {
   "cell_type": "markdown",
   "metadata": {},
   "source": [
    "## MMLU"
   ]
  },
  {
   "cell_type": "code",
   "execution_count": 5,
   "metadata": {},
   "outputs": [
    {
     "name": "stdout",
     "output_type": "stream",
     "text": [
      "False positive rate for MMLU on benign samples: 0.0\n"
     ]
    }
   ],
   "source": [
    "# False postive rate\n",
    "false_case_count = 0\n",
    "for sample in mmlu_benign:\n",
    "    if sample['label'] != 0:\n",
    "        false_case_count += 1\n",
    "print(f'False positive rate for MMLU on benign samples: {false_case_count / len(mmlu_benign)}')"
   ]
  },
  {
   "cell_type": "code",
   "execution_count": 3,
   "metadata": {},
   "outputs": [
    {
     "name": "stdout",
     "output_type": "stream",
     "text": [
      "False negative rate for MMLU on injection samples: 0.698\n"
     ]
    }
   ],
   "source": [
    "# False negative rate\n",
    "false_case_count = 0\n",
    "for sample in mmlu_injection:\n",
    "    if sample['label'] == 0:\n",
    "        false_case_count += 1\n",
    "print(f'False negative rate for MMLU on injection samples: {false_case_count / len(mmlu_injection)}')"
   ]
  },
  {
   "cell_type": "code",
   "execution_count": 4,
   "metadata": {},
   "outputs": [
    {
     "name": "stdout",
     "output_type": "stream",
     "text": [
      "AUC for OPI: 1.0\n"
     ]
    },
    {
     "data": {
      "image/png": "[encoded data removed]",
      "text/plain": [
       "<Figure size 640x480 with 1 Axes>"
      ]
     },
     "metadata": {},
     "output_type": "display_data"
    }
   ],
   "source": [
    "# AUC\n",
    "y_labels = []\n",
    "y_scores = []\n",
    "for sample in mmlu_benign:\n",
    "    y_labels.append(0)\n",
    "    y_scores.append(1-sample['score'])\n",
    "for sample in mmlu_injection:\n",
    "    y_labels.append(1)\n",
    "    y_scores.append(1-sample['score'])\n",
    "    \n",
    "print(f'AUC for OPI: {roc_auc_score(y_labels, y_scores)}')\n",
    "\n",
    "fpr, tpr, thresholds = roc_curve(y_labels, y_scores)\n",
    "plt.plot(fpr, tpr, marker='.')\n",
    "plt.xlabel('False Positive Rate')\n",
    "plt.ylabel('True Positive Rate')\n",
    "plt.title('ROC Curve')\n",
    "plt.show()"
   ]
  }
 ],
 "metadata": {
  "kernelspec": {
   "display_name": "prompt-injection",
   "language": "python",
   "name": "python3"
  },
  "language_info": {
   "codemirror_mode": {
    "name": "ipython",
    "version": 3
   },
   "file_extension": ".py",
   "mimetype": "text/x-python",
   "name": "python",
   "nbconvert_exporter": "python",
   "pygments_lexer": "ipython3",
   "version": "3.10.0"
  }
 },
 "nbformat": 4,
 "nbformat_minor": 2
}
